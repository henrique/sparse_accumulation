{
 "cells": [
  {
   "cell_type": "code",
   "execution_count": 1,
   "id": "4f46f1df",
   "metadata": {},
   "outputs": [],
   "source": [
    "import time\n",
    "import torch\n",
    "from clebsch_gordan import get_real_clebsch_gordan, ClebschGordan\n",
    "from sparse_accumulation_plain_torch import sparse_accumulation_loops, sparse_accumulation_index_add\n",
    "import sparse_accumulation, sparse_accumulation_active_dim_first\n",
    "import numpy as np"
   ]
  },
  {
   "cell_type": "code",
   "execution_count": 2,
   "id": "eee1aca3",
   "metadata": {},
   "outputs": [],
   "source": [
    "L_MAX = 8\n",
    "clebsch = ClebschGordan(L_MAX).precomputed_\n",
    "indices = get_real_clebsch_gordan(clebsch[L_MAX, L_MAX, L_MAX], L_MAX, L_MAX, L_MAX)"
   ]
  },
  {
   "cell_type": "code",
   "execution_count": 3,
   "id": "1b6ca254",
   "metadata": {},
   "outputs": [],
   "source": [
    "m1_aligned, m2_aligned = [], []\n",
    "multipliers, mu_aligned = [], []\n",
    "for mu in range(0, 2 * L_MAX + 1):\n",
    "    for el in indices[mu]:\n",
    "        m1, m2, multiplier = el\n",
    "        m1_aligned.append(m1)\n",
    "        m2_aligned.append(m2)\n",
    "        multipliers.append(multiplier)\n",
    "        mu_aligned.append(mu)\n",
    "m1_aligned = torch.LongTensor(m1_aligned)\n",
    "m2_aligned = torch.LongTensor(m2_aligned)\n",
    "mu_aligned = torch.LongTensor(mu_aligned)\n",
    "multipliers = torch.FloatTensor(multipliers)"
   ]
  },
  {
   "cell_type": "markdown",
   "id": "c0535168",
   "metadata": {},
   "source": [
    "## forward pass"
   ]
  },
  {
   "cell_type": "code",
   "execution_count": 4,
   "id": "12a789d0",
   "metadata": {},
   "outputs": [
    {
     "name": "stdout",
     "output_type": "stream",
     "text": [
      "python loops implementation forward:\n",
      "0.3843062188890245\n"
     ]
    }
   ],
   "source": [
    "BATCH_SIZE = 1000\n",
    "N_FEATURES = 100\n",
    "X1 = torch.randn(BATCH_SIZE, N_FEATURES, 2 * L_MAX + 1)\n",
    "X2 = torch.randn(BATCH_SIZE, N_FEATURES, 2 * L_MAX + 1)\n",
    "X1_T = torch.randn(2 * L_MAX + 1, BATCH_SIZE, N_FEATURES)\n",
    "X2_T = torch.randn(2 * L_MAX + 1, BATCH_SIZE, N_FEATURES)\n",
    "\n",
    "print(\"python loops implementation forward:\")\n",
    "times = []\n",
    "for _ in range(10):\n",
    "    begin = time.time()\n",
    "    output = sparse_accumulation_loops(X1, X2, mu_aligned, 2 * L_MAX + 1, m1_aligned, m2_aligned, multipliers)\n",
    "    times.append(time.time() - begin)\n",
    "print(np.mean(times[1:]))"
   ]
  },
  {
   "cell_type": "code",
   "execution_count": 5,
   "id": "99ad40f6",
   "metadata": {},
   "outputs": [
    {
     "name": "stdout",
     "output_type": "stream",
     "text": [
      "python loops implementation active dimension first forward:\n",
      "0.030097458097669814\n"
     ]
    }
   ],
   "source": [
    "print(\"python loops implementation active dimension first forward:\")\n",
    "times = []\n",
    "for _ in range(10):\n",
    "    begin = time.time()\n",
    "    output = sparse_accumulation_loops(X1_T, X2_T, mu_aligned, 2 * L_MAX + 1, m1_aligned, m2_aligned, multipliers, \n",
    "                                       active_dimension_first = True)\n",
    "    times.append(time.time() - begin)\n",
    "print(np.mean(times[1:]))\n",
    "#print(output.shape)"
   ]
  },
  {
   "cell_type": "code",
   "execution_count": 6,
   "id": "238b3aae",
   "metadata": {},
   "outputs": [
    {
     "name": "stdout",
     "output_type": "stream",
     "text": [
      "pytorch index_add_ implementation forward:\n",
      "0.38694630728827584\n"
     ]
    }
   ],
   "source": [
    "print(\"pytorch index_add_ implementation forward:\")\n",
    "times = []\n",
    "for _ in range(10):\n",
    "    begin = time.time()\n",
    "    output = sparse_accumulation_index_add(X1, X2, mu_aligned, 2 * L_MAX + 1, m1_aligned, m2_aligned, multipliers)\n",
    "    times.append(time.time() - begin)\n",
    "print(np.mean(times[1:]))"
   ]
  },
  {
   "cell_type": "code",
   "execution_count": 7,
   "id": "614c5131",
   "metadata": {},
   "outputs": [
    {
     "name": "stdout",
     "output_type": "stream",
     "text": [
      "pytorch index_add_ implementation active dimension first forward:\n",
      "0.08746173646714953\n"
     ]
    }
   ],
   "source": [
    "print(\"pytorch index_add_ implementation active dimension first forward:\")\n",
    "times = []\n",
    "for _ in range(10):\n",
    "    begin = time.time()\n",
    "    output = sparse_accumulation_index_add(X1_T, X2_T, mu_aligned, \n",
    "                                           2 * L_MAX + 1, m1_aligned, m2_aligned,\n",
    "                                           multipliers, active_dimension_first = True)\n",
    "    times.append(time.time() - begin)\n",
    "print(np.mean(times[1:]))"
   ]
  },
  {
   "cell_type": "code",
   "execution_count": 8,
   "id": "3b832577",
   "metadata": {},
   "outputs": [
    {
     "name": "stdout",
     "output_type": "stream",
     "text": [
      "cpp implementation forward:\n",
      "0.08978088696797688\n"
     ]
    }
   ],
   "source": [
    "print(\"cpp implementation forward:\")\n",
    "times = []\n",
    "for _ in range(10):\n",
    "    begin = time.time()\n",
    "    output = sparse_accumulation.SparseAccumulation.apply(X1, X2, mu_aligned,\n",
    "                                                          2 * L_MAX + 1, m1_aligned, m2_aligned, multipliers)\n",
    "    times.append(time.time() - begin)\n",
    "    \n",
    "print(np.mean(times[1:]))"
   ]
  },
  {
   "cell_type": "code",
   "execution_count": 9,
   "id": "d8ea4e76",
   "metadata": {},
   "outputs": [
    {
     "name": "stdout",
     "output_type": "stream",
     "text": [
      "cpp implementation active dim first forward:\n",
      "0.24221282535129124\n"
     ]
    }
   ],
   "source": [
    "print(\"cpp implementation active dim first forward:\")\n",
    "times = []\n",
    "for _ in range(10):\n",
    "    begin = time.time()\n",
    "    output = sparse_accumulation_active_dim_first.SparseAccumulationActiveDimFirst.apply(X1_T, X2_T, mu_aligned,\n",
    "                                                          2 * L_MAX + 1, m1_aligned, m2_aligned, multipliers)\n",
    "    times.append(time.time() - begin)\n",
    "    \n",
    "print(np.mean(times[1:]))"
   ]
  },
  {
   "cell_type": "markdown",
   "id": "039a76a9",
   "metadata": {},
   "source": [
    "## backward pass"
   ]
  },
  {
   "cell_type": "code",
   "execution_count": 10,
   "id": "00f27ec3",
   "metadata": {},
   "outputs": [
    {
     "name": "stdout",
     "output_type": "stream",
     "text": [
      "python loops implementation backward:\n",
      "4.454397201538086\n"
     ]
    }
   ],
   "source": [
    "X1.requires_grad = True\n",
    "X2.requires_grad = True\n",
    "X1_T.requires_grad = True\n",
    "X2_T.requires_grad = True\n",
    "\n",
    "print(\"python loops implementation backward:\")\n",
    "times = []\n",
    "for _ in range(10):\n",
    "    begin = time.time()\n",
    "    output = sparse_accumulation_loops(X1, X2, mu_aligned, 2 * L_MAX + 1, m1_aligned, m2_aligned, multipliers)\n",
    "    output.backward(gradient=torch.ones_like(output))\n",
    "    times.append(time.time() - begin)\n",
    "print(np.mean(times[1:]))"
   ]
  },
  {
   "cell_type": "code",
   "execution_count": 11,
   "id": "234afd94",
   "metadata": {},
   "outputs": [
    {
     "name": "stdout",
     "output_type": "stream",
     "text": [
      "python loops implementation active dimension first backward:\n",
      "2.099976513120863\n"
     ]
    }
   ],
   "source": [
    "print(\"python loops implementation active dimension first backward:\")\n",
    "times = []\n",
    "for _ in range(10):\n",
    "    begin = time.time()\n",
    "    output = sparse_accumulation_loops(X1_T, X2_T, mu_aligned, 2 * L_MAX + 1, m1_aligned,\n",
    "                                       m2_aligned, multipliers, active_dimension_first = True)\n",
    "    output.backward(gradient=torch.ones_like(output))\n",
    "    times.append(time.time() - begin)\n",
    "print(np.mean(times[1:]))"
   ]
  },
  {
   "cell_type": "code",
   "execution_count": 12,
   "id": "2d854271",
   "metadata": {},
   "outputs": [
    {
     "name": "stdout",
     "output_type": "stream",
     "text": [
      "pytorch index_add_ implementation backward:\n",
      "0.814969884024726\n"
     ]
    }
   ],
   "source": [
    "print(\"pytorch index_add_ implementation backward:\")\n",
    "times = []\n",
    "for _ in range(10):\n",
    "    begin = time.time()\n",
    "    output = sparse_accumulation_index_add(X1, X2, mu_aligned, 2 * L_MAX + 1, m1_aligned, m2_aligned, multipliers)\n",
    "    output.backward(gradient=torch.ones_like(output))\n",
    "    times.append(time.time() - begin)\n",
    "print(np.mean(times[1:]))"
   ]
  },
  {
   "cell_type": "code",
   "execution_count": 13,
   "id": "8ee6b0c5",
   "metadata": {},
   "outputs": [
    {
     "name": "stdout",
     "output_type": "stream",
     "text": [
      "pytorch index_add_ implementation active dimension first backward:\n",
      "0.2679281234741211\n"
     ]
    }
   ],
   "source": [
    "print(\"pytorch index_add_ implementation active dimension first backward:\")\n",
    "times = []\n",
    "for _ in range(10):\n",
    "    begin = time.time()\n",
    "    output = sparse_accumulation_index_add(X1_T, X2_T, mu_aligned, 2 * L_MAX + 1,\n",
    "                                           m1_aligned, m2_aligned, multipliers, active_dimension_first = True)\n",
    "    output.backward(gradient=torch.ones_like(output))\n",
    "    times.append(time.time() - begin)\n",
    "print(np.mean(times[1:]))"
   ]
  },
  {
   "cell_type": "code",
   "execution_count": 14,
   "id": "d18e2439",
   "metadata": {},
   "outputs": [
    {
     "name": "stdout",
     "output_type": "stream",
     "text": [
      "cpp implementation backward:\n",
      "0.21010208129882812\n"
     ]
    }
   ],
   "source": [
    "print(\"cpp implementation backward:\")\n",
    "times = []\n",
    "for _ in range(10):\n",
    "    begin = time.time()\n",
    "    output = sparse_accumulation.SparseAccumulation.apply(X1, X2, mu_aligned,\n",
    "                                                            2 * L_MAX + 1, m1_aligned, m2_aligned, multipliers)\n",
    "    output.backward(gradient=torch.ones_like(output))\n",
    "    times.append(time.time() - begin)\n",
    "    \n",
    "print(np.mean(times[1:]))"
   ]
  },
  {
   "cell_type": "code",
   "execution_count": 15,
   "id": "e8a661ee",
   "metadata": {},
   "outputs": [
    {
     "name": "stdout",
     "output_type": "stream",
     "text": [
      "cpp implementation active dim first backward:\n",
      "0.30788514349195695\n"
     ]
    }
   ],
   "source": [
    "print(\"cpp implementation active dim first backward:\")\n",
    "times = []\n",
    "for _ in range(10):\n",
    "    begin = time.time()\n",
    "    output = sparse_accumulation_active_dim_first.SparseAccumulationActiveDimFirst.apply(X1_T, X2_T, mu_aligned,\n",
    "                                                          2 * L_MAX + 1, m1_aligned, m2_aligned, multipliers)\n",
    "    output.backward(gradient=torch.ones_like(output))\n",
    "    times.append(time.time() - begin)\n",
    "    \n",
    "print(np.mean(times[1:]))"
   ]
  },
  {
   "cell_type": "code",
   "execution_count": null,
   "id": "3f415873",
   "metadata": {},
   "outputs": [],
   "source": []
  }
 ],
 "metadata": {
  "kernelspec": {
   "display_name": "Python 3 (ipykernel)",
   "language": "python",
   "name": "python3"
  },
  "language_info": {
   "codemirror_mode": {
    "name": "ipython",
    "version": 3
   },
   "file_extension": ".py",
   "mimetype": "text/x-python",
   "name": "python",
   "nbconvert_exporter": "python",
   "pygments_lexer": "ipython3",
   "version": "3.9.12"
  }
 },
 "nbformat": 4,
 "nbformat_minor": 5
}
