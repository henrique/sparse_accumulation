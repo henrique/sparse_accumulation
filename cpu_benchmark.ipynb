{
 "cells": [
  {
   "cell_type": "code",
   "execution_count": 7,
   "id": "5959dbb5",
   "metadata": {},
   "outputs": [],
   "source": [
    "import time\n",
    "import torch\n",
    "from clebsch_gordan import get_real_clebsch_gordan, ClebschGordan\n",
    "from sparse_accumulation_plain_torch import sparse_accumulation_loops\n",
    "import sparse_accumulation\n",
    "import numpy as np"
   ]
  },
  {
   "cell_type": "code",
   "execution_count": 2,
   "id": "f8c7cee9",
   "metadata": {},
   "outputs": [],
   "source": [
    "L_MAX = 5\n",
    "clebsch = ClebschGordan(L_MAX).precomputed_\n",
    "indices = get_real_clebsch_gordan(clebsch[L_MAX, L_MAX, L_MAX], L_MAX, L_MAX, L_MAX)"
   ]
  },
  {
   "cell_type": "code",
   "execution_count": 3,
   "id": "ca3b2424",
   "metadata": {},
   "outputs": [],
   "source": [
    "m1_aligned, m2_aligned = [], []\n",
    "multipliers, mu_aligned = [], []\n",
    "for mu in range(0, 2 * L_MAX + 1):\n",
    "    for el in indices[mu]:\n",
    "        m1, m2, multiplier = el\n",
    "        m1_aligned.append(m1)\n",
    "        m2_aligned.append(m2)\n",
    "        multipliers.append(multiplier)\n",
    "        mu_aligned.append(mu)\n",
    "m1_aligned = torch.LongTensor(m1_aligned)\n",
    "m2_aligned = torch.LongTensor(m2_aligned)\n",
    "mu_aligned = torch.LongTensor(mu_aligned)\n",
    "multipliers = torch.FloatTensor(multipliers)"
   ]
  },
  {
   "cell_type": "markdown",
   "id": "52a55ab9",
   "metadata": {},
   "source": [
    "## forward pass"
   ]
  },
  {
   "cell_type": "code",
   "execution_count": 10,
   "id": "7aa7d849",
   "metadata": {},
   "outputs": [
    {
     "name": "stdout",
     "output_type": "stream",
     "text": [
      "python loops implementation:\n",
      "0.06464420424567328\n"
     ]
    }
   ],
   "source": [
    "BATCH_SIZE = 1000\n",
    "N_FEATURES = 100\n",
    "X1 = torch.randn(BATCH_SIZE, N_FEATURES, 2 * L_MAX + 1)\n",
    "X2 = torch.randn(BATCH_SIZE, N_FEATURES, 2 * L_MAX + 1)\n",
    "\n",
    "print(\"python loops implementation forward:\")\n",
    "times = []\n",
    "for _ in range(10):\n",
    "    begin = time.time()\n",
    "    output = sparse_accumulation_loops(X1, X2, mu_aligned, 2 * L_MAX + 1, m1_aligned, m2_aligned, multipliers)\n",
    "    times.append(time.time() - begin)\n",
    "print(np.mean(times[1:]))"
   ]
  },
  {
   "cell_type": "code",
   "execution_count": 11,
   "id": "479a467e",
   "metadata": {},
   "outputs": [
    {
     "name": "stdout",
     "output_type": "stream",
     "text": [
      "python loops implementation:\n",
      "0.0005266136593288846\n"
     ]
    }
   ],
   "source": [
    "print(\"cpp implementation forward:\")\n",
    "times = []\n",
    "for _ in range(10):\n",
    "    begin = time.time()\n",
    "    output = sparse_accumulation.SparseAccumulation.apply(X1, X2, mu_aligned,\n",
    "                                                          2 * L_MAX + 1, m1_aligned, m2_aligned, multipliers)\n",
    "    times.append(time.time() - begin)\n",
    "    \n",
    "print(np.mean(times[1:]))"
   ]
  },
  {
   "cell_type": "markdown",
   "id": "ee894b1b",
   "metadata": {},
   "source": [
    "## backward pass"
   ]
  },
  {
   "cell_type": "code",
   "execution_count": 13,
   "id": "dd42b3e4",
   "metadata": {},
   "outputs": [
    {
     "name": "stdout",
     "output_type": "stream",
     "text": [
      "python loops implementation:\n",
      "0.8695724805196127\n"
     ]
    }
   ],
   "source": [
    "X1.requires_grad = True\n",
    "X2.requires_grad = True\n",
    "\n",
    "print(\"python loops implementation backward:\")\n",
    "times = []\n",
    "for _ in range(10):\n",
    "    begin = time.time()\n",
    "    output = sparse_accumulation_loops(X1, X2, mu_aligned, 2 * L_MAX + 1, m1_aligned, m2_aligned, multipliers)\n",
    "    output.backward(gradient=torch.ones_like(output))\n",
    "    times.append(time.time() - begin)\n",
    "print(np.mean(times[1:]))"
   ]
  },
  {
   "cell_type": "code",
   "execution_count": null,
   "id": "35cc56a3",
   "metadata": {},
   "outputs": [],
   "source": [
    "print(\"cpp implementation backward:\")\n",
    "times = []\n",
    "for _ in range(10):\n",
    "    begin = time.time()\n",
    "    output = sparse_accumulation.SparseAccumulation.apply(X1, X2, mu_aligned,\n",
    "                                                          2 * L_MAX + 1, m1_aligned, m2_aligned, multipliers)\\\n",
    "    output.backward(gradient=torch.ones_like(output))\n",
    "    times.append(time.time() - begin)\n",
    "    \n",
    "print(np.mean(times[1:]))"
   ]
  }
 ],
 "metadata": {
  "kernelspec": {
   "display_name": "Python 3 (ipykernel)",
   "language": "python",
   "name": "python3"
  },
  "language_info": {
   "codemirror_mode": {
    "name": "ipython",
    "version": 3
   },
   "file_extension": ".py",
   "mimetype": "text/x-python",
   "name": "python",
   "nbconvert_exporter": "python",
   "pygments_lexer": "ipython3",
   "version": "3.9.12"
  }
 },
 "nbformat": 4,
 "nbformat_minor": 5
}
