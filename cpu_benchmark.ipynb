{
 "cells": [
  {
   "cell_type": "code",
   "execution_count": 1,
   "id": "4f46f1df",
   "metadata": {},
   "outputs": [],
   "source": [
    "import time\n",
    "import torch\n",
    "from clebsch_gordan import get_real_clebsch_gordan, ClebschGordan\n",
    "from sparse_accumulation_plain_torch import sparse_accumulation_loops, sparse_accumulation_index_add\n",
    "import sparse_accumulation\n",
    "import numpy as np"
   ]
  },
  {
   "cell_type": "code",
   "execution_count": 2,
   "id": "eee1aca3",
   "metadata": {},
   "outputs": [],
   "source": [
    "L_MAX = 8\n",
    "clebsch = ClebschGordan(L_MAX).precomputed_\n",
    "indices = get_real_clebsch_gordan(clebsch[L_MAX, L_MAX, L_MAX], L_MAX, L_MAX, L_MAX)"
   ]
  },
  {
   "cell_type": "code",
   "execution_count": 3,
   "id": "1b6ca254",
   "metadata": {},
   "outputs": [],
   "source": [
    "m1_aligned, m2_aligned = [], []\n",
    "multipliers, mu_aligned = [], []\n",
    "for mu in range(0, 2 * L_MAX + 1):\n",
    "    for el in indices[mu]:\n",
    "        m1, m2, multiplier = el\n",
    "        m1_aligned.append(m1)\n",
    "        m2_aligned.append(m2)\n",
    "        multipliers.append(multiplier)\n",
    "        mu_aligned.append(mu)\n",
    "m1_aligned = torch.LongTensor(m1_aligned)\n",
    "m2_aligned = torch.LongTensor(m2_aligned)\n",
    "mu_aligned = torch.LongTensor(mu_aligned)\n",
    "multipliers = torch.FloatTensor(multipliers)"
   ]
  },
  {
   "cell_type": "markdown",
   "id": "c0535168",
   "metadata": {},
   "source": [
    "## forward pass"
   ]
  },
  {
   "cell_type": "code",
   "execution_count": 4,
   "id": "12a789d0",
   "metadata": {},
   "outputs": [
    {
     "name": "stdout",
     "output_type": "stream",
     "text": [
      "python loops implementation forward:\n",
      "0.3548792468176948\n"
     ]
    }
   ],
   "source": [
    "BATCH_SIZE = 1000\n",
    "N_FEATURES = 100\n",
    "X1 = torch.randn(BATCH_SIZE, N_FEATURES, 2 * L_MAX + 1)\n",
    "X2 = torch.randn(BATCH_SIZE, N_FEATURES, 2 * L_MAX + 1)\n",
    "X1_T = X1.transpose(0, 2).transpose(1, 2)\n",
    "X2_T = X2.transpose(0, 2).transpose(1, 2)\n",
    "\n",
    "print(\"python loops implementation forward:\")\n",
    "times = []\n",
    "for _ in range(10):\n",
    "    begin = time.time()\n",
    "    output = sparse_accumulation_loops(X1, X2, mu_aligned, 2 * L_MAX + 1, m1_aligned, m2_aligned, multipliers)\n",
    "    times.append(time.time() - begin)\n",
    "print(np.mean(times[1:]))"
   ]
  },
  {
   "cell_type": "code",
   "execution_count": 5,
   "id": "41148263",
   "metadata": {},
   "outputs": [
    {
     "name": "stdout",
     "output_type": "stream",
     "text": [
      "python loops implementation active dimension first forward:\n",
      "0.16052360004848903\n"
     ]
    }
   ],
   "source": [
    "print(\"python loops implementation active dimension first forward:\")\n",
    "times = []\n",
    "for _ in range(10):\n",
    "    begin = time.time()\n",
    "    output = sparse_accumulation_loops(X1_T, X2_T, mu_aligned, 2 * L_MAX + 1, m1_aligned, m2_aligned, multipliers, \n",
    "                                       active_dimension_first = True)\n",
    "    times.append(time.time() - begin)\n",
    "print(np.mean(times[1:]))\n",
    "#print(output.shape)"
   ]
  },
  {
   "cell_type": "code",
   "execution_count": 6,
   "id": "df13369d",
   "metadata": {},
   "outputs": [
    {
     "name": "stdout",
     "output_type": "stream",
     "text": [
      "pytorch index_add_ implementation forward:\n",
      "0.34934745894538033\n"
     ]
    }
   ],
   "source": [
    "print(\"pytorch index_add_ implementation forward:\")\n",
    "times = []\n",
    "for _ in range(10):\n",
    "    begin = time.time()\n",
    "    output = sparse_accumulation_index_add(X1, X2, mu_aligned, 2 * L_MAX + 1, m1_aligned, m2_aligned, multipliers)\n",
    "    times.append(time.time() - begin)\n",
    "print(np.mean(times[1:]))"
   ]
  },
  {
   "cell_type": "code",
   "execution_count": 7,
   "id": "690ee598",
   "metadata": {},
   "outputs": [
    {
     "name": "stdout",
     "output_type": "stream",
     "text": [
      "pytorch index_add_ implementation active dimension first forward:\n",
      "0.11391989390055339\n"
     ]
    }
   ],
   "source": [
    "print(\"pytorch index_add_ implementation active dimension first forward:\")\n",
    "times = []\n",
    "for _ in range(10):\n",
    "    begin = time.time()\n",
    "    output = sparse_accumulation_index_add(X1_T, X2_T, mu_aligned, \n",
    "                                           2 * L_MAX + 1, m1_aligned, m2_aligned,\n",
    "                                           multipliers, active_dimension_first = True)\n",
    "    times.append(time.time() - begin)\n",
    "print(np.mean(times[1:]))"
   ]
  },
  {
   "cell_type": "code",
   "execution_count": 8,
   "id": "3b832577",
   "metadata": {},
   "outputs": [
    {
     "name": "stdout",
     "output_type": "stream",
     "text": [
      "cpp implementation forward:\n",
      "0.08650718794928657\n"
     ]
    }
   ],
   "source": [
    "print(\"cpp implementation forward:\")\n",
    "times = []\n",
    "for _ in range(10):\n",
    "    begin = time.time()\n",
    "    output = sparse_accumulation.SparseAccumulation.apply(X1, X2, mu_aligned,\n",
    "                                                          2 * L_MAX + 1, m1_aligned, m2_aligned, multipliers)\n",
    "    times.append(time.time() - begin)\n",
    "    \n",
    "print(np.mean(times[1:]))"
   ]
  },
  {
   "cell_type": "markdown",
   "id": "039a76a9",
   "metadata": {},
   "source": [
    "## backward pass"
   ]
  },
  {
   "cell_type": "code",
   "execution_count": null,
   "id": "00f27ec3",
   "metadata": {},
   "outputs": [
    {
     "name": "stdout",
     "output_type": "stream",
     "text": [
      "python loops implementation backward:\n"
     ]
    }
   ],
   "source": [
    "X1.requires_grad = True\n",
    "X2.requires_grad = True\n",
    "\n",
    "print(\"python loops implementation backward:\")\n",
    "times = []\n",
    "for _ in range(10):\n",
    "    begin = time.time()\n",
    "    output = sparse_accumulation_loops(X1, X2, mu_aligned, 2 * L_MAX + 1, m1_aligned, m2_aligned, multipliers)\n",
    "    output.backward(gradient=torch.ones_like(output))\n",
    "    times.append(time.time() - begin)\n",
    "print(np.mean(times[1:]))"
   ]
  },
  {
   "cell_type": "code",
   "execution_count": null,
   "id": "993b7adc",
   "metadata": {},
   "outputs": [],
   "source": [
    "print(\"python loops implementation active dimension first backward:\")\n",
    "times = []\n",
    "for _ in range(10):\n",
    "    begin = time.time()\n",
    "    output = sparse_accumulation_loops(X1_T, X2_T, mu_aligned, 2 * L_MAX + 1, m1_aligned,\n",
    "                                       m2_aligned, multipliers, active_dimension_first = True)\n",
    "    output.backward(gradient=torch.ones_like(output))\n",
    "    times.append(time.time() - begin)\n",
    "print(np.mean(times[1:]))"
   ]
  },
  {
   "cell_type": "code",
   "execution_count": null,
   "id": "7281083c",
   "metadata": {},
   "outputs": [],
   "source": [
    "print(\"pytorch index_add_ implementation backward:\")\n",
    "times = []\n",
    "for _ in range(10):\n",
    "    begin = time.time()\n",
    "    output = sparse_accumulation_index_add(X1, X2, mu_aligned, 2 * L_MAX + 1, m1_aligned, m2_aligned, multipliers)\n",
    "    output.backward(gradient=torch.ones_like(output))\n",
    "    times.append(time.time() - begin)\n",
    "print(np.mean(times[1:]))"
   ]
  },
  {
   "cell_type": "code",
   "execution_count": null,
   "id": "be817cc5",
   "metadata": {},
   "outputs": [],
   "source": [
    "print(\"pytorch index_add_ implementation active dimension first backward:\")\n",
    "times = []\n",
    "for _ in range(10):\n",
    "    begin = time.time()\n",
    "    output = sparse_accumulation_index_add(X1_T, X2_T, mu_aligned, 2 * L_MAX + 1,\n",
    "                                           m1_aligned, m2_aligned, multipliers, active_dimension_first = True)\n",
    "    output.backward(gradient=torch.ones_like(output))\n",
    "    times.append(time.time() - begin)\n",
    "print(np.mean(times[1:]))"
   ]
  },
  {
   "cell_type": "code",
   "execution_count": null,
   "id": "d18e2439",
   "metadata": {},
   "outputs": [],
   "source": [
    "print(\"cpp implementation backward:\")\n",
    "times = []\n",
    "for _ in range(10):\n",
    "    begin = time.time()\n",
    "    output = sparse_accumulation.SparseAccumulation.apply(X1, X2, mu_aligned,\n",
    "                                                            2 * L_MAX + 1, m1_aligned, m2_aligned, multipliers)\n",
    "    output.backward(gradient=torch.ones_like(output))\n",
    "    times.append(time.time() - begin)\n",
    "    \n",
    "print(np.mean(times[1:]))"
   ]
  },
  {
   "cell_type": "code",
   "execution_count": null,
   "id": "e8a661ee",
   "metadata": {},
   "outputs": [],
   "source": []
  }
 ],
 "metadata": {
  "kernelspec": {
   "display_name": "Python 3 (ipykernel)",
   "language": "python",
   "name": "python3"
  },
  "language_info": {
   "codemirror_mode": {
    "name": "ipython",
    "version": 3
   },
   "file_extension": ".py",
   "mimetype": "text/x-python",
   "name": "python",
   "nbconvert_exporter": "python",
   "pygments_lexer": "ipython3",
   "version": "3.9.12"
  }
 },
 "nbformat": 4,
 "nbformat_minor": 5
}
