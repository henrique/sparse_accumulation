{
 "cells": [
  {
   "cell_type": "code",
   "execution_count": 1,
   "id": "bfb72c10",
   "metadata": {},
   "outputs": [],
   "source": [
    "import torch\n",
    "from sparse_accumulation_plain_torch import sparse_accumulation_loops\n",
    "import sparse_accumulation\n",
    "import sparse_accumulation_cpp "
   ]
  },
  {
   "cell_type": "code",
   "execution_count": 2,
   "id": "22ae50d0",
   "metadata": {},
   "outputs": [
    {
     "name": "stdout",
     "output_type": "stream",
     "text": [
      "torch.Size([2, 2, 3])\n"
     ]
    }
   ],
   "source": [
    "X1 = torch.randn(2, 2, 2)\n",
    "X2 = torch.randn(2, 2, 2)\n",
    "idx_output = torch.LongTensor([0, 0, 1, 1, 2])\n",
    "output_size = 3\n",
    "idx_1 = torch.LongTensor([0, 1, 0, 1, 0])\n",
    "idx_2 = torch.LongTensor([0, 0, 1, 1, 0])\n",
    "multipliers = torch.FloatTensor([1.0, 2.0, 1.0, -42.0, 42.0])\n",
    "\n",
    "output = sparse_accumulation_loops(X1, X2, idx_output, output_size, idx_1, idx_2, multipliers)\n",
    "print(output.shape)"
   ]
  },
  {
   "cell_type": "code",
   "execution_count": 3,
   "id": "5f2117fa",
   "metadata": {},
   "outputs": [
    {
     "data": {
      "text/plain": [
       "torch.Size([2, 2, 3])"
      ]
     },
     "execution_count": 3,
     "metadata": {},
     "output_type": "execute_result"
    }
   ],
   "source": [
    "sparse_accumulation_cpp.forward(X1, X2, idx_output, output_size, idx_1, idx_2, multipliers).shape"
   ]
  },
  {
   "cell_type": "code",
   "execution_count": 4,
   "id": "af3b0746",
   "metadata": {},
   "outputs": [
    {
     "name": "stdout",
     "output_type": "stream",
     "text": [
      "None\n",
      "torch.Size([2, 2, 2])\n"
     ]
    }
   ],
   "source": [
    "\n",
    "X1.requires_grad = True\n",
    "X2.requires_grad = True\n",
    "result = sparse_accumulation.SparseAccumulation.apply(X1, X2, idx_output, output_size, idx_1, idx_2, multipliers)\n",
    "\n",
    "print(X1.grad)\n",
    "result.backward(gradient = torch.zeros_like(result))\n",
    "print(X1.grad.shape)"
   ]
  },
  {
   "cell_type": "code",
   "execution_count": null,
   "id": "dfeba125",
   "metadata": {},
   "outputs": [],
   "source": []
  }
 ],
 "metadata": {
  "kernelspec": {
   "display_name": "Python 3 (ipykernel)",
   "language": "python",
   "name": "python3"
  },
  "language_info": {
   "codemirror_mode": {
    "name": "ipython",
    "version": 3
   },
   "file_extension": ".py",
   "mimetype": "text/x-python",
   "name": "python",
   "nbconvert_exporter": "python",
   "pygments_lexer": "ipython3",
   "version": "3.9.12"
  }
 },
 "nbformat": 4,
 "nbformat_minor": 5
}
