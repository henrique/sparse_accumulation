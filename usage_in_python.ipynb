{
 "cells": [
  {
   "cell_type": "code",
   "execution_count": 1,
   "id": "bfb72c10",
   "metadata": {},
   "outputs": [],
   "source": [
    "import torch"
   ]
  },
  {
   "cell_type": "code",
   "execution_count": 2,
   "id": "d75a13d6",
   "metadata": {},
   "outputs": [],
   "source": [
    "import sparse_accumulation_cpp"
   ]
  },
  {
   "cell_type": "code",
   "execution_count": 3,
   "id": "45ea35b6",
   "metadata": {},
   "outputs": [],
   "source": [
    "output = sparse_accumulation_cpp.forward(torch.randn(2, 2), torch.randn(2, 2), \n",
    "                                torch.LongTensor([0, 1]), 2, torch.LongTensor([0, 1]), torch.LongTensor([0, 1]))"
   ]
  },
  {
   "cell_type": "code",
   "execution_count": 4,
   "id": "89dcd322",
   "metadata": {},
   "outputs": [
    {
     "name": "stdout",
     "output_type": "stream",
     "text": [
      "tensor([0., 0.])\n"
     ]
    }
   ],
   "source": [
    "print(output)"
   ]
  },
  {
   "cell_type": "code",
   "execution_count": 5,
   "id": "267d558b",
   "metadata": {},
   "outputs": [],
   "source": [
    "import sparse_accumulation"
   ]
  },
  {
   "cell_type": "code",
   "execution_count": 6,
   "id": "630bdce9",
   "metadata": {},
   "outputs": [],
   "source": [
    "result = sparse_accumulation.SparseAccumulation.apply(torch.randn(2, 2), torch.randn(2, 2), \n",
    "                                torch.LongTensor([0, 1]), 2, torch.LongTensor([0, 1]), torch.LongTensor([0, 1]))"
   ]
  },
  {
   "cell_type": "code",
   "execution_count": 7,
   "id": "afc2ca7e",
   "metadata": {},
   "outputs": [
    {
     "name": "stdout",
     "output_type": "stream",
     "text": [
      "tensor([0., 0.])\n"
     ]
    }
   ],
   "source": [
    "print(result)"
   ]
  },
  {
   "cell_type": "code",
   "execution_count": 8,
   "id": "1784733a",
   "metadata": {},
   "outputs": [
    {
     "name": "stdout",
     "output_type": "stream",
     "text": [
      "None\n",
      "tensor([[0., 0.],\n",
      "        [0., 0.]])\n"
     ]
    }
   ],
   "source": [
    "X1 = torch.randn(2, 2)\n",
    "X2 = torch.randn(2, 2)\n",
    "X1.requires_grad = True\n",
    "X2.requires_grad = True\n",
    "result = sparse_accumulation.SparseAccumulation.apply(X1, X2, \n",
    "                                torch.LongTensor([0, 1]), 2, torch.LongTensor([0, 1]), torch.LongTensor([0, 1]))\n",
    "\n",
    "print(X1.grad)\n",
    "result.backward(gradient = torch.zeros_like(result))\n",
    "print(X1.grad)"
   ]
  },
  {
   "cell_type": "code",
   "execution_count": null,
   "id": "7a5f88d3",
   "metadata": {},
   "outputs": [],
   "source": []
  }
 ],
 "metadata": {
  "kernelspec": {
   "display_name": "Python 3 (ipykernel)",
   "language": "python",
   "name": "python3"
  },
  "language_info": {
   "codemirror_mode": {
    "name": "ipython",
    "version": 3
   },
   "file_extension": ".py",
   "mimetype": "text/x-python",
   "name": "python",
   "nbconvert_exporter": "python",
   "pygments_lexer": "ipython3",
   "version": "3.9.12"
  }
 },
 "nbformat": 4,
 "nbformat_minor": 5
}
