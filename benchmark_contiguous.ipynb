{
 "cells": [
  {
   "cell_type": "code",
   "execution_count": 1,
   "id": "4f46f1df",
   "metadata": {},
   "outputs": [],
   "source": [
    "import time\n",
    "import torch\n",
    "torch.set_num_threads(1)\n",
    "from clebsch_gordan import get_real_clebsch_gordan, ClebschGordan\n",
    "from sparse_accumulation_plain_torch import sparse_accumulation_loops, sparse_accumulation_index_add\n",
    "import sparse_accumulation, sparse_accumulation_active_dim_first,  sparse_accumulation_active_dim_middle\n",
    "import numpy as np"
   ]
  },
  {
   "cell_type": "code",
   "execution_count": 2,
   "id": "eee1aca3",
   "metadata": {},
   "outputs": [],
   "source": [
    "L_MAX = 8\n",
    "clebsch = ClebschGordan(L_MAX).precomputed_\n",
    "indices = get_real_clebsch_gordan(clebsch[L_MAX, L_MAX, L_MAX], L_MAX, L_MAX, L_MAX)"
   ]
  },
  {
   "cell_type": "code",
   "execution_count": 3,
   "id": "1b6ca254",
   "metadata": {},
   "outputs": [],
   "source": [
    "m1_aligned, m2_aligned = [], []\n",
    "multipliers, mu_aligned = [], []\n",
    "for mu in range(0, 2 * L_MAX + 1):\n",
    "    for el in indices[mu]:\n",
    "        m1, m2, multiplier = el\n",
    "        m1_aligned.append(m1)\n",
    "        m2_aligned.append(m2)\n",
    "        multipliers.append(multiplier)\n",
    "        mu_aligned.append(mu)\n",
    "m1_aligned = torch.LongTensor(m1_aligned)\n",
    "m2_aligned = torch.LongTensor(m2_aligned)\n",
    "mu_aligned = torch.LongTensor(mu_aligned)\n",
    "multipliers = torch.FloatTensor(multipliers)"
   ]
  },
  {
   "cell_type": "code",
   "execution_count": 4,
   "id": "31502f89",
   "metadata": {},
   "outputs": [],
   "source": [
    "def get_input(BATCH_SIZE, N_FEATURES, active_dim, device):\n",
    "    if active_dim == 0:\n",
    "        X1 = torch.randn(2 * L_MAX + 1, BATCH_SIZE, N_FEATURES, device = device)\n",
    "        X2 = torch.randn(2 * L_MAX + 1, BATCH_SIZE, N_FEATURES, device = device)\n",
    "    \n",
    "    if active_dim == 1:\n",
    "        X1 = torch.randn(BATCH_SIZE, 2 * L_MAX + 1, N_FEATURES, device = device)\n",
    "        X2 = torch.randn(BATCH_SIZE, 2 * L_MAX + 1, N_FEATURES, device = device)\n",
    "        \n",
    "    if active_dim == 2:\n",
    "        X1 = torch.randn(BATCH_SIZE, N_FEATURES, 2 * L_MAX + 1, device = device)\n",
    "        X2 = torch.randn(BATCH_SIZE, N_FEATURES, 2 * L_MAX + 1, device = device)   \n",
    "   \n",
    "        \n",
    "    if (active_dim != 0) and (active_dim != 2) and (active_dim != 1):\n",
    "        raise ValueError(\"active dim should be one of 0, 1, 2\")\n",
    "        \n",
    "    return X1, X2\n",
    "\n",
    "def benchmark_forward_cpu(BATCH_SIZE, N_FEATURES, active_dim, function, n_trials):\n",
    "    X1, X2 = get_input(BATCH_SIZE, N_FEATURES, active_dim, 'cpu')\n",
    "    times = []\n",
    "            \n",
    "    for _ in range(n_trials):\n",
    "        begin = time.time() \n",
    "        output = function(X1, X2, mu_aligned, 2 * L_MAX + 1, m1_aligned, m2_aligned, multipliers)\n",
    "        times.append(time.time() - begin)\n",
    "    return times\n",
    "\n",
    "\n",
    "def benchmark_forward_gpu(BATCH_SIZE, N_FEATURES, active_dim, function, n_trials):\n",
    "    X1, X2 = get_input(BATCH_SIZE, N_FEATURES, active_dim, 'cuda')\n",
    "    times = []\n",
    "    torch.cuda.synchronize('cuda')\n",
    "    starter, ender = torch.cuda.Event(enable_timing=True), torch.cuda.Event(\n",
    "        enable_timing=True)\n",
    "    \n",
    "    for _ in range(n_trials):\n",
    "        starter.record()\n",
    "        output = function(X1, X2, mu_aligned, 2 * L_MAX + 1, m1_aligned, m2_aligned, multipliers)\n",
    "        ender.record()\n",
    "        torch.cuda.synchronize('cuda')\n",
    "        delta_time = starter.elapsed_time(ender)\n",
    "        times.append(delta_time / 1000.0)        \n",
    "    return times\n",
    "\n",
    "\n",
    "def benchmark_backward_cpu(BATCH_SIZE, N_FEATURES, active_dim, function, n_trials):\n",
    "    X1, X2 = get_input(BATCH_SIZE, N_FEATURES, active_dim, 'cpu')\n",
    "        \n",
    "    X1.requires_grad = True\n",
    "    X2.requires_grad = True\n",
    "    times = []\n",
    "    for _ in range(n_trials):\n",
    "        begin = time.time()\n",
    "        output = function(X1, X2, mu_aligned, 2 * L_MAX + 1, m1_aligned, m2_aligned, multipliers)\n",
    "        output.backward(gradient=torch.ones_like(output))\n",
    "        times.append(time.time() - begin)\n",
    "    return np.array(times)\n",
    "\n",
    "def benchmark_backward_gpu(BATCH_SIZE, N_FEATURES, active_dim, function, n_trials):\n",
    "    X1, X2 = get_input(BATCH_SIZE, N_FEATURES, active_dim, 'cuda')\n",
    "        \n",
    "    X1.requires_grad = True\n",
    "    X2.requires_grad = True\n",
    "    times = []\n",
    "    \n",
    "    torch.cuda.synchronize('cuda')\n",
    "    starter, ender = torch.cuda.Event(enable_timing=True), torch.cuda.Event(\n",
    "        enable_timing=True)    \n",
    "    \n",
    "    for _ in range(n_trials):\n",
    "        starter.record()\n",
    "        output = function(X1, X2, mu_aligned, 2 * L_MAX + 1, m1_aligned, m2_aligned, multipliers)\n",
    "        output.backward(gradient=torch.ones_like(output))\n",
    "        ender.record()\n",
    "        torch.cuda.synchronize('cuda')\n",
    "        delta_time = starter.elapsed_time(ender)\n",
    "        times.append(delta_time / 1000.0)  \n",
    "    return np.array(times)"
   ]
  },
  {
   "cell_type": "code",
   "execution_count": 5,
   "id": "35c9a468",
   "metadata": {},
   "outputs": [],
   "source": [
    "def get_func_fixed_dim(func, active_dim):\n",
    "    def func_fixed_dim(*args):\n",
    "        return func(*args, active_dim = active_dim)\n",
    "    return func_fixed_dim"
   ]
  },
  {
   "cell_type": "markdown",
   "id": "1e502265",
   "metadata": {},
   "source": [
    "# cpu"
   ]
  },
  {
   "cell_type": "code",
   "execution_count": 6,
   "id": "06dde3d9",
   "metadata": {},
   "outputs": [
    {
     "name": "stdout",
     "output_type": "stream",
     "text": [
      "python loops; active dim 0; forward:  0.018164555231730144\n",
      "torch index_add_; active dim 0; forward:  0.1441103087531196\n",
      "cpp; active dim 0; forward:  0.018260796864827473\n",
      "\n",
      "python loops; active dim 1; forward:  0.02665122350056966\n",
      "torch index_add_; active dim 1; forward:  0.16138855616251627\n",
      "cpp; active dim 1; forward:  0.020249154832628038\n",
      "\n",
      "python loops; active dim 2; forward:  0.11550572183397081\n",
      "torch index_add_; active dim 2; forward:  0.3303320672776964\n",
      "cpp; active dim 2; forward:  0.07571329010857476\n"
     ]
    }
   ],
   "source": [
    "BATCH_SIZE = 1000\n",
    "N_FEATURES = 100\n",
    "\n",
    "times = benchmark_forward_cpu(BATCH_SIZE, N_FEATURES, 0, \n",
    "                          get_func_fixed_dim(sparse_accumulation_loops, 0), 10)\n",
    "print(\"python loops; active dim 0; forward: \", np.mean(times[1:]))\n",
    "times = benchmark_forward_cpu(BATCH_SIZE, N_FEATURES, 0, \n",
    "                          get_func_fixed_dim(sparse_accumulation_index_add, 0), 10)\n",
    "print(\"torch index_add_; active dim 0; forward: \", np.mean(times[1:]))\n",
    "times = benchmark_forward_cpu(BATCH_SIZE, N_FEATURES, 0,\n",
    "                          sparse_accumulation_active_dim_first.SparseAccumulationActiveDimFirst.apply, 10)\n",
    "print(\"cpp; active dim 0; forward: \", np.mean(times[1:]))\n",
    "\n",
    "print()\n",
    "times = benchmark_forward_cpu(BATCH_SIZE, N_FEATURES, 1, \n",
    "                          get_func_fixed_dim(sparse_accumulation_loops, 1), 10)\n",
    "print(\"python loops; active dim 1; forward: \", np.mean(times[1:]))\n",
    "times = benchmark_forward_cpu(BATCH_SIZE, N_FEATURES, 1, \n",
    "                          get_func_fixed_dim(sparse_accumulation_index_add, 1), 10)\n",
    "print(\"torch index_add_; active dim 1; forward: \", np.mean(times[1:]))\n",
    "times = benchmark_forward_cpu(BATCH_SIZE, N_FEATURES, 1,\n",
    "                          sparse_accumulation_active_dim_middle.SparseAccumulationActiveDimMiddle.apply, 10)\n",
    "print(\"cpp; active dim 1; forward: \", np.mean(times[1:]))\n",
    "\n",
    "print()\n",
    "times = benchmark_forward_cpu(BATCH_SIZE, N_FEATURES, 2, get_func_fixed_dim(sparse_accumulation_loops, 2), 10)\n",
    "print(\"python loops; active dim 2; forward: \", np.mean(times[1:]))\n",
    "times = benchmark_forward_cpu(BATCH_SIZE, N_FEATURES, 2, get_func_fixed_dim(sparse_accumulation_index_add, 2), 10)\n",
    "print(\"torch index_add_; active dim 2; forward: \", np.mean(times[1:]))\n",
    "times = benchmark_forward_cpu(BATCH_SIZE, N_FEATURES, 2, sparse_accumulation.SparseAccumulation.apply, 10)\n",
    "print(\"cpp; active dim 2; forward: \", np.mean(times[1:]))\n",
    "\n"
   ]
  },
  {
   "cell_type": "code",
   "execution_count": 7,
   "id": "56095bfc",
   "metadata": {},
   "outputs": [
    {
     "name": "stdout",
     "output_type": "stream",
     "text": [
      "python loops; active dim 0; backward:  1.151155710220337\n",
      "torch index_add_; active dim 0; backward:  0.28337030940585667\n",
      "cpp; active dim 0; backward:  0.04540822241041395\n",
      "\n",
      "python loops; active dim 1; backward:  1.5681321620941162\n",
      "torch index_add_; active dim 1; backward:  0.28336673312717015\n",
      "cpp; active dim 1; backward:  0.04901160134209527\n",
      "\n",
      "python loops; active dim 2; backward:  0.6322691175672743\n",
      "torch index_add_; active dim 2; backward:  0.6292437977261014\n",
      "cpp; active dim 2; backward:  0.12261679437425402\n"
     ]
    }
   ],
   "source": [
    "times = benchmark_backward_cpu(BATCH_SIZE, N_FEATURES, 0, \n",
    "                           get_func_fixed_dim(sparse_accumulation_loops, 0), 10)\n",
    "print(\"python loops; active dim 0; backward: \", np.mean(times[1:]))\n",
    "times = benchmark_backward_cpu(BATCH_SIZE, N_FEATURES, 0, \n",
    "                           get_func_fixed_dim(sparse_accumulation_index_add, 0), 10)\n",
    "print(\"torch index_add_; active dim 0; backward: \", np.mean(times[1:]))\n",
    "times = benchmark_backward_cpu(BATCH_SIZE, N_FEATURES, 0,\n",
    "                           sparse_accumulation_active_dim_first.SparseAccumulationActiveDimFirst.apply, 10)\n",
    "print(\"cpp; active dim 0; backward: \", np.mean(times[1:]))\n",
    "\n",
    "print()\n",
    "\n",
    "times = benchmark_backward_cpu(BATCH_SIZE, N_FEATURES, 1, \n",
    "                           get_func_fixed_dim(sparse_accumulation_loops, 1), 10)\n",
    "print(\"python loops; active dim 1; backward: \", np.mean(times[1:]))\n",
    "times = benchmark_backward_cpu(BATCH_SIZE, N_FEATURES, 1, \n",
    "                           get_func_fixed_dim(sparse_accumulation_index_add, 1), 10)\n",
    "print(\"torch index_add_; active dim 1; backward: \", np.mean(times[1:]))\n",
    "times = benchmark_backward_cpu(BATCH_SIZE, N_FEATURES, 1,\n",
    "                           sparse_accumulation_active_dim_middle.SparseAccumulationActiveDimMiddle.apply, 10)\n",
    "print(\"cpp; active dim 1; backward: \", np.mean(times[1:]))\n",
    "\n",
    "\n",
    "print()\n",
    "times = benchmark_backward_cpu(BATCH_SIZE, N_FEATURES, 2, \n",
    "                           get_func_fixed_dim(sparse_accumulation_index_add, 2), 10)\n",
    "print(\"python loops; active dim 2; backward: \", np.mean(times[1:]))\n",
    "times = benchmark_backward_cpu(BATCH_SIZE, N_FEATURES, 2, \n",
    "                           get_func_fixed_dim(sparse_accumulation_index_add, 2), 10)\n",
    "print(\"torch index_add_; active dim 2; backward: \", np.mean(times[1:]))\n",
    "times = benchmark_backward_cpu(BATCH_SIZE, N_FEATURES, 2, sparse_accumulation.SparseAccumulation.apply, 10)\n",
    "print(\"cpp; active dim 2; backward: \", np.mean(times[1:]))\n",
    "\n",
    "\n",
    "\n"
   ]
  },
  {
   "cell_type": "markdown",
   "id": "9c23fe21",
   "metadata": {},
   "source": [
    "# CUDA"
   ]
  },
  {
   "cell_type": "code",
   "execution_count": 8,
   "id": "1265fd65",
   "metadata": {},
   "outputs": [],
   "source": [
    "m1_aligned = m1_aligned.cuda() \n",
    "m2_aligned = m2_aligned.cuda()\n",
    "mu_aligned = mu_aligned.cuda()\n",
    "multipliers = multipliers.cuda()"
   ]
  },
  {
   "cell_type": "code",
   "execution_count": 9,
   "id": "3f415873",
   "metadata": {},
   "outputs": [
    {
     "name": "stdout",
     "output_type": "stream",
     "text": [
      "python loops; active dim 0; forward; cuda:  0.01946451907687717\n",
      "torch index_add_; active dim 0; forward; cuda:  0.0023149653010898167\n",
      "\n",
      "python loops; active dim 1; forward; cuda:  0.02190663104587131\n",
      "torch index_add_; active dim 1; forward; cuda:  0.0021864213148752847\n",
      "\n",
      "python loops; active dim 2; forward; cuda:  0.03215370983547635\n",
      "torch index_add_; active dim 2; forward; cuda:  0.002321347581015693\n"
     ]
    },
    {
     "data": {
      "text/plain": [
       "'times = benchmark_forward(BATCH_SIZE, N_FEATURES, 2, sparse_accumulation.SparseAccumulation.apply, 10)\\nprint(\"cpp; active dim 2; forward: \", np.mean(times[1:]))'"
      ]
     },
     "execution_count": 9,
     "metadata": {},
     "output_type": "execute_result"
    }
   ],
   "source": [
    "BATCH_SIZE = 1000\n",
    "N_FEATURES = 100\n",
    "\n",
    "times = benchmark_forward_gpu(BATCH_SIZE, N_FEATURES, 0, \n",
    "                          get_func_fixed_dim(sparse_accumulation_loops, 0), 10)\n",
    "print(\"python loops; active dim 0; forward; cuda: \", np.mean(times[1:]))\n",
    "times = benchmark_forward_gpu(BATCH_SIZE, N_FEATURES, 0, \n",
    "                          get_func_fixed_dim(sparse_accumulation_index_add, 0), 10)\n",
    "print(\"torch index_add_; active dim 0; forward; cuda: \", np.mean(times[1:]))\n",
    "'''times = benchmark_forward(BATCH_SIZE, N_FEATURES, 0,\n",
    "                          sparse_accumulation_active_dim_first.SparseAccumulationActiveDimFirst.apply, 10)\n",
    "print(\"cpp; active dim 0; forward: \", np.mean(times[1:]))'''\n",
    "\n",
    "print()\n",
    "times = benchmark_forward_gpu(BATCH_SIZE, N_FEATURES, 1, \n",
    "                          get_func_fixed_dim(sparse_accumulation_loops, 1), 10)\n",
    "print(\"python loops; active dim 1; forward; cuda: \", np.mean(times[1:]))\n",
    "times = benchmark_forward_gpu(BATCH_SIZE, N_FEATURES, 1, \n",
    "                          get_func_fixed_dim(sparse_accumulation_index_add, 1), 10)\n",
    "print(\"torch index_add_; active dim 1; forward; cuda: \", np.mean(times[1:]))\n",
    "'''times = benchmark_forward(BATCH_SIZE, N_FEATURES, 1,\n",
    "                          sparse_accumulation_active_dim_middle.SparseAccumulationActiveDimMiddle.apply, 10)\n",
    "print(\"cpp; active dim 1; forward: \", np.mean(times[1:]))'''\n",
    "\n",
    "print()\n",
    "times = benchmark_forward_gpu(BATCH_SIZE, N_FEATURES, 2, \n",
    "                          get_func_fixed_dim(sparse_accumulation_loops, 2), 10)\n",
    "print(\"python loops; active dim 2; forward; cuda: \", np.mean(times[1:]))\n",
    "times = benchmark_forward_gpu(BATCH_SIZE, N_FEATURES, 2,\n",
    "                          get_func_fixed_dim(sparse_accumulation_index_add, 2), 10)\n",
    "print(\"torch index_add_; active dim 2; forward; cuda: \", np.mean(times[1:]))\n",
    "'''times = benchmark_forward(BATCH_SIZE, N_FEATURES, 2, sparse_accumulation.SparseAccumulation.apply, 10)\n",
    "print(\"cpp; active dim 2; forward: \", np.mean(times[1:]))'''\n",
    "\n"
   ]
  },
  {
   "cell_type": "code",
   "execution_count": 10,
   "id": "9cacf2b7",
   "metadata": {},
   "outputs": [
    {
     "name": "stdout",
     "output_type": "stream",
     "text": [
      "python loops; active dim 0; backward; cuda:  0.10589237891303167\n",
      "torch index_add_; active dim 0; backward; cuda:  0.0051896283891465925\n",
      "\n",
      "python loops; active dim 1; backward; cuda:  0.13309243265787762\n",
      "torch index_add_; active dim 1; backward; cuda:  0.0052041279474894205\n",
      "\n",
      "python loops; active dim 2; backward; cuda:  0.040250610351562494\n",
      "torch index_add_; active dim 2; backward; cuda:  0.04206680509779189\n"
     ]
    },
    {
     "data": {
      "text/plain": [
       "'times = benchmark_backward(BATCH_SIZE, N_FEATURES, 2, sparse_accumulation.SparseAccumulation.apply, 10)\\nprint(\"cpp; active dim 2; backward: \", np.mean(times[1:]))'"
      ]
     },
     "execution_count": 10,
     "metadata": {},
     "output_type": "execute_result"
    }
   ],
   "source": [
    "times = benchmark_backward_gpu(BATCH_SIZE, N_FEATURES, 0, \n",
    "                           get_func_fixed_dim(sparse_accumulation_loops, 0), 10)\n",
    "print(\"python loops; active dim 0; backward; cuda: \", np.mean(times[1:]))\n",
    "times = benchmark_backward_gpu(BATCH_SIZE, N_FEATURES, 0, \n",
    "                           get_func_fixed_dim(sparse_accumulation_index_add, 0), 10)\n",
    "print(\"torch index_add_; active dim 0; backward; cuda: \", np.mean(times[1:]))\n",
    "'''times = benchmark_backward(BATCH_SIZE, N_FEATURES, 0,\n",
    "                           sparse_accumulation_active_dim_first.SparseAccumulationActiveDimFirst.apply, 10)\n",
    "print(\"cpp; active dim 0; backward: \", np.mean(times[1:]))'''\n",
    "\n",
    "print()\n",
    "\n",
    "times = benchmark_backward_gpu(BATCH_SIZE, N_FEATURES, 1, \n",
    "                           get_func_fixed_dim(sparse_accumulation_loops, 1), 10)\n",
    "print(\"python loops; active dim 1; backward; cuda: \", np.mean(times[1:]))\n",
    "times = benchmark_backward_gpu(BATCH_SIZE, N_FEATURES, 1, \n",
    "                           get_func_fixed_dim(sparse_accumulation_index_add, 1), 10)\n",
    "print(\"torch index_add_; active dim 1; backward; cuda: \", np.mean(times[1:]))\n",
    "'''times = benchmark_backward(BATCH_SIZE, N_FEATURES, 1,\n",
    "                           sparse_accumulation_active_dim_middle.SparseAccumulationActiveDimMiddle.apply, 10)\n",
    "print(\"cpp; active dim 1; backward: \", np.mean(times[1:]))'''\n",
    "\n",
    "\n",
    "print()\n",
    "times = benchmark_backward_gpu(BATCH_SIZE, N_FEATURES, 2, \n",
    "                           get_func_fixed_dim(sparse_accumulation_index_add, 2), 10)\n",
    "print(\"python loops; active dim 2; backward; cuda: \", np.mean(times[1:]))\n",
    "times = benchmark_backward_gpu(BATCH_SIZE, N_FEATURES, 2, \n",
    "                           get_func_fixed_dim(sparse_accumulation_index_add, 2), 10)\n",
    "print(\"torch index_add_; active dim 2; backward; cuda: \", np.mean(times[1:]))\n",
    "'''times = benchmark_backward(BATCH_SIZE, N_FEATURES, 2, sparse_accumulation.SparseAccumulation.apply, 10)\n",
    "print(\"cpp; active dim 2; backward: \", np.mean(times[1:]))'''\n",
    "\n",
    "\n",
    "\n"
   ]
  },
  {
   "cell_type": "code",
   "execution_count": null,
   "id": "623ea943",
   "metadata": {},
   "outputs": [],
   "source": []
  },
  {
   "cell_type": "code",
   "execution_count": null,
   "id": "b195bdc6",
   "metadata": {},
   "outputs": [],
   "source": []
  }
 ],
 "metadata": {
  "kernelspec": {
   "display_name": "Python 3 (ipykernel)",
   "language": "python",
   "name": "python3"
  },
  "language_info": {
   "codemirror_mode": {
    "name": "ipython",
    "version": 3
   },
   "file_extension": ".py",
   "mimetype": "text/x-python",
   "name": "python",
   "nbconvert_exporter": "python",
   "pygments_lexer": "ipython3",
   "version": "3.10.4"
  }
 },
 "nbformat": 4,
 "nbformat_minor": 5
}
