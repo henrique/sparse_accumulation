{
 "cells": [
  {
   "cell_type": "code",
   "execution_count": 1,
   "id": "4f46f1df",
   "metadata": {},
   "outputs": [],
   "source": [
    "import time\n",
    "import torch\n",
    "torch.set_num_threads(1)\n",
    "from clebsch_gordan import get_real_clebsch_gordan, ClebschGordan\n",
    "from sparse_accumulation_plain_torch import sparse_accumulation_loops, sparse_accumulation_index_add\n",
    "import sparse_accumulation, sparse_accumulation_active_dim_first\n",
    "import numpy as np"
   ]
  },
  {
   "cell_type": "code",
   "execution_count": 2,
   "id": "eee1aca3",
   "metadata": {},
   "outputs": [],
   "source": [
    "L_MAX = 8\n",
    "clebsch = ClebschGordan(L_MAX).precomputed_\n",
    "indices = get_real_clebsch_gordan(clebsch[L_MAX, L_MAX, L_MAX], L_MAX, L_MAX, L_MAX)"
   ]
  },
  {
   "cell_type": "code",
   "execution_count": 3,
   "id": "1b6ca254",
   "metadata": {},
   "outputs": [],
   "source": [
    "m1_aligned, m2_aligned = [], []\n",
    "multipliers, mu_aligned = [], []\n",
    "for mu in range(0, 2 * L_MAX + 1):\n",
    "    for el in indices[mu]:\n",
    "        m1, m2, multiplier = el\n",
    "        m1_aligned.append(m1)\n",
    "        m2_aligned.append(m2)\n",
    "        multipliers.append(multiplier)\n",
    "        mu_aligned.append(mu)\n",
    "m1_aligned = torch.LongTensor(m1_aligned)\n",
    "m2_aligned = torch.LongTensor(m2_aligned)\n",
    "mu_aligned = torch.LongTensor(mu_aligned)\n",
    "multipliers = torch.FloatTensor(multipliers)"
   ]
  },
  {
   "cell_type": "code",
   "execution_count": null,
   "id": "e5ad1499",
   "metadata": {},
   "outputs": [],
   "source": [
    "def sparse_accumulation_loops_active_dim_first(*args):\n",
    "    return sparse_accumulation_loops(*args, active_dimension_first = True)\n",
    "\n",
    "def sparse_accumulation_index_add_active_dim_first(*args):\n",
    "    return sparse_accumulation_index_add(*args, active_dimension_first = True)"
   ]
  },
  {
   "cell_type": "code",
   "execution_count": 19,
   "id": "31502f89",
   "metadata": {},
   "outputs": [],
   "source": [
    "def benchmark_forward(BATCH_SIZE, N_FEATURES, active_dim, function, n_trials):\n",
    "    if active_dim == 2:\n",
    "        X1 = torch.randn(BATCH_SIZE, N_FEATURES, 2 * L_MAX + 1)\n",
    "        X2 = torch.randn(BATCH_SIZE, N_FEATURES, 2 * L_MAX + 1)\n",
    "    if active_dim == 0:\n",
    "        X1 = torch.randn(2 * L_MAX + 1, BATCH_SIZE, N_FEATURES)\n",
    "        X2 = torch.randn(2 * L_MAX + 1, BATCH_SIZE, N_FEATURES)\n",
    "    if (active_dim != 0) and (active_dim != 2):\n",
    "        raise ValueError(\"active dim can be only 0 or 2\")\n",
    "    times = []\n",
    "    for _ in range(n_trials):\n",
    "        begin = time.time()\n",
    "        output = function(X1, X2, mu_aligned, 2 * L_MAX + 1, m1_aligned, m2_aligned, multipliers)\n",
    "        times.append(time.time() - begin)\n",
    "    return times\n",
    "\n",
    "\n",
    "def benchmark_backward(BATCH_SIZE, N_FEATURES, active_dim, function, n_trials):\n",
    "    if active_dim == 2:\n",
    "        X1 = torch.randn(BATCH_SIZE, N_FEATURES, 2 * L_MAX + 1)\n",
    "        X2 = torch.randn(BATCH_SIZE, N_FEATURES, 2 * L_MAX + 1)\n",
    "    if active_dim == 0:\n",
    "        X1 = torch.randn(2 * L_MAX + 1, BATCH_SIZE, N_FEATURES)\n",
    "        X2 = torch.randn(2 * L_MAX + 1, BATCH_SIZE, N_FEATURES)\n",
    "    if (active_dim != 0) and (active_dim != 2):\n",
    "        raise ValueError(\"active dim can be only 0 or 2\")\n",
    "        \n",
    "    X1.requires_grad = True\n",
    "    X2.requires_grad = True\n",
    "    times = []\n",
    "    for _ in range(n_trials):\n",
    "        begin = time.time()\n",
    "        output = function(X1, X2, mu_aligned, 2 * L_MAX + 1, m1_aligned, m2_aligned, multipliers)\n",
    "        output.backward(gradient=torch.ones_like(output))\n",
    "        times.append(time.time() - begin)\n",
    "    return np.array(times)"
   ]
  },
  {
   "cell_type": "code",
   "execution_count": null,
   "id": "35c9a468",
   "metadata": {},
   "outputs": [],
   "source": []
  },
  {
   "cell_type": "code",
   "execution_count": 21,
   "id": "06dde3d9",
   "metadata": {},
   "outputs": [
    {
     "name": "stdout",
     "output_type": "stream",
     "text": [
      "python loops; active dim 2; forward:  0.4338243272569444\n",
      "torch index_add_; active dim 2; forward:  0.7381992075178359\n",
      "cpp; active dim 2; forward:  0.0666847758822971\n",
      "python loops; active dim 0; forward:  0.03847114245096842\n",
      "torch index_add_; active dim 0; forward:  0.20851201481289333\n",
      "cpp; active dim 0; forward:  0.026672919591267902\n"
     ]
    }
   ],
   "source": [
    "BATCH_SIZE = 1000\n",
    "N_FEATURES = 100\n",
    "times = benchmark_forward(BATCH_SIZE, N_FEATURES, 2, sparse_accumulation_loops, 10)\n",
    "print(\"python loops; active dim 2; forward: \", np.mean(times[1:]))\n",
    "times = benchmark_forward(BATCH_SIZE, N_FEATURES, 2, sparse_accumulation_index_add, 10)\n",
    "print(\"torch index_add_; active dim 2; forward: \", np.mean(times[1:]))\n",
    "times = benchmark_forward(BATCH_SIZE, N_FEATURES, 2, sparse_accumulation.SparseAccumulation.apply, 10)\n",
    "print(\"cpp; active dim 2; forward: \", np.mean(times[1:]))\n",
    "\n",
    "times = benchmark_forward(BATCH_SIZE, N_FEATURES, 0, sparse_accumulation_loops_active_dim_first, 10)\n",
    "print(\"python loops; active dim 0; forward: \", np.mean(times[1:]))\n",
    "times = benchmark_forward(BATCH_SIZE, N_FEATURES, 0, sparse_accumulation_index_add_active_dim_first, 10)\n",
    "print(\"torch index_add_; active dim 0; forward: \", np.mean(times[1:]))\n",
    "times = benchmark_forward(BATCH_SIZE, N_FEATURES, 0, sparse_accumulation_active_dim_first.SparseAccumulationActiveDimFirst.apply, 10)\n",
    "print(\"cpp; active dim 0; forward: \", np.mean(times[1:]))\n",
    "\n",
    "\n"
   ]
  },
  {
   "cell_type": "code",
   "execution_count": 22,
   "id": "56095bfc",
   "metadata": {},
   "outputs": [
    {
     "name": "stdout",
     "output_type": "stream",
     "text": [
      "python loops; active dim 2; backward:  5.021067725287543\n",
      "torch index_add_; active dim 2; backward:  1.4698193868001301\n",
      "cpp; active dim 2; backward:  0.1217292414771186\n",
      "python loops; active dim 0; backward:  2.118829462263319\n",
      "torch index_add_; active dim 0; backward:  0.4341705905066596\n",
      "cpp; active dim 0; backward:  0.07336550288730198\n"
     ]
    }
   ],
   "source": [
    "times = benchmark_backward(BATCH_SIZE, N_FEATURES, 2, sparse_accumulation_loops, 10)\n",
    "print(\"python loops; active dim 2; backward: \", np.mean(times[1:]))\n",
    "times = benchmark_backward(BATCH_SIZE, N_FEATURES, 2, sparse_accumulation_index_add, 10)\n",
    "print(\"torch index_add_; active dim 2; backward: \", np.mean(times[1:]))\n",
    "times = benchmark_backward(BATCH_SIZE, N_FEATURES, 2, sparse_accumulation.SparseAccumulation.apply, 10)\n",
    "print(\"cpp; active dim 2; backward: \", np.mean(times[1:]))\n",
    "\n",
    "times = benchmark_backward(BATCH_SIZE, N_FEATURES, 0, sparse_accumulation_loops_active_dim_first, 10)\n",
    "print(\"python loops; active dim 0; backward: \", np.mean(times[1:]))\n",
    "times = benchmark_backward(BATCH_SIZE, N_FEATURES, 0, sparse_accumulation_index_add_active_dim_first, 10)\n",
    "print(\"torch index_add_; active dim 0; backward: \", np.mean(times[1:]))\n",
    "times = benchmark_backward(BATCH_SIZE, N_FEATURES, 0, sparse_accumulation_active_dim_first.SparseAccumulationActiveDimFirst.apply, 10)\n",
    "print(\"cpp; active dim 0; backward: \", np.mean(times[1:]))\n",
    "\n"
   ]
  },
  {
   "cell_type": "code",
   "execution_count": null,
   "id": "3f415873",
   "metadata": {},
   "outputs": [],
   "source": []
  }
 ],
 "metadata": {
  "kernelspec": {
   "display_name": "Python 3 (ipykernel)",
   "language": "python",
   "name": "python3"
  },
  "language_info": {
   "codemirror_mode": {
    "name": "ipython",
    "version": 3
   },
   "file_extension": ".py",
   "mimetype": "text/x-python",
   "name": "python",
   "nbconvert_exporter": "python",
   "pygments_lexer": "ipython3",
   "version": "3.9.12"
  }
 },
 "nbformat": 4,
 "nbformat_minor": 5
}
