{
 "cells": [
  {
   "cell_type": "code",
   "execution_count": 1,
   "id": "4f46f1df",
   "metadata": {},
   "outputs": [],
   "source": [
    "import time\n",
    "import torch\n",
    "torch.set_num_threads(1)\n",
    "from clebsch_gordan import get_real_clebsch_gordan, ClebschGordan\n",
    "from sparse_accumulation_plain_torch import sparse_accumulation_loops, sparse_accumulation_index_add\n",
    "import sparse_accumulation, sparse_accumulation_active_dim_first,  sparse_accumulation_active_dim_middle\n",
    "import numpy as np"
   ]
  },
  {
   "cell_type": "code",
   "execution_count": 2,
   "id": "eee1aca3",
   "metadata": {},
   "outputs": [],
   "source": [
    "L_MAX = 8\n",
    "clebsch = ClebschGordan(L_MAX).precomputed_\n",
    "indices = get_real_clebsch_gordan(clebsch[L_MAX, L_MAX, L_MAX], L_MAX, L_MAX, L_MAX)"
   ]
  },
  {
   "cell_type": "code",
   "execution_count": 3,
   "id": "1b6ca254",
   "metadata": {},
   "outputs": [],
   "source": [
    "m1_aligned, m2_aligned = [], []\n",
    "multipliers, mu_aligned = [], []\n",
    "for mu in range(0, 2 * L_MAX + 1):\n",
    "    for el in indices[mu]:\n",
    "        m1, m2, multiplier = el\n",
    "        m1_aligned.append(m1)\n",
    "        m2_aligned.append(m2)\n",
    "        multipliers.append(multiplier)\n",
    "        mu_aligned.append(mu)\n",
    "m1_aligned = torch.LongTensor(m1_aligned)\n",
    "m2_aligned = torch.LongTensor(m2_aligned)\n",
    "mu_aligned = torch.LongTensor(mu_aligned)\n",
    "multipliers = torch.FloatTensor(multipliers)"
   ]
  },
  {
   "cell_type": "code",
   "execution_count": 4,
   "id": "31502f89",
   "metadata": {},
   "outputs": [],
   "source": [
    "def benchmark_forward(BATCH_SIZE, N_FEATURES, active_dim, function, n_trials):\n",
    "    if active_dim == 0:\n",
    "        X1 = torch.randn(2 * L_MAX + 1, BATCH_SIZE, N_FEATURES)\n",
    "        X2 = torch.randn(2 * L_MAX + 1, BATCH_SIZE, N_FEATURES)\n",
    "    \n",
    "    if active_dim == 1:\n",
    "        X1 = torch.randn(BATCH_SIZE, 2 * L_MAX + 1, N_FEATURES)\n",
    "        X2 = torch.randn(BATCH_SIZE, 2 * L_MAX + 1, N_FEATURES)\n",
    "        \n",
    "    if active_dim == 2:\n",
    "        X1 = torch.randn(BATCH_SIZE, N_FEATURES, 2 * L_MAX + 1)\n",
    "        X2 = torch.randn(BATCH_SIZE, N_FEATURES, 2 * L_MAX + 1)\n",
    "    \n",
    "   \n",
    "        \n",
    "    if (active_dim != 0) and (active_dim != 2) and (active_dim != 1):\n",
    "        raise ValueError(\"active dim should be one of 0, 1, 2\")\n",
    "    times = []\n",
    "    for _ in range(n_trials):\n",
    "        begin = time.time()\n",
    "        output = function(X1, X2, mu_aligned, 2 * L_MAX + 1, m1_aligned, m2_aligned, multipliers)\n",
    "        times.append(time.time() - begin)\n",
    "    return times\n",
    "\n",
    "\n",
    "def benchmark_backward(BATCH_SIZE, N_FEATURES, active_dim, function, n_trials):\n",
    "    if active_dim == 0:\n",
    "        X1 = torch.randn(2 * L_MAX + 1, BATCH_SIZE, N_FEATURES)\n",
    "        X2 = torch.randn(2 * L_MAX + 1, BATCH_SIZE, N_FEATURES)\n",
    "    \n",
    "    if active_dim == 1:\n",
    "        X1 = torch.randn(BATCH_SIZE, 2 * L_MAX + 1, N_FEATURES)\n",
    "        X2 = torch.randn(BATCH_SIZE, 2 * L_MAX + 1, N_FEATURES)\n",
    "        \n",
    "    if active_dim == 2:\n",
    "        X1 = torch.randn(BATCH_SIZE, N_FEATURES, 2 * L_MAX + 1)\n",
    "        X2 = torch.randn(BATCH_SIZE, N_FEATURES, 2 * L_MAX + 1)\n",
    "        \n",
    "    if (active_dim != 0) and (active_dim != 2) and (active_dim != 1):\n",
    "        raise ValueError(\"active dim should be one of 0, 1, 2\")\n",
    "        \n",
    "    X1.requires_grad = True\n",
    "    X2.requires_grad = True\n",
    "    times = []\n",
    "    for _ in range(n_trials):\n",
    "        begin = time.time()\n",
    "        output = function(X1, X2, mu_aligned, 2 * L_MAX + 1, m1_aligned, m2_aligned, multipliers)\n",
    "        output.backward(gradient=torch.ones_like(output))\n",
    "        times.append(time.time() - begin)\n",
    "    return np.array(times)"
   ]
  },
  {
   "cell_type": "code",
   "execution_count": 5,
   "id": "35c9a468",
   "metadata": {},
   "outputs": [],
   "source": [
    "def get_func_fixed_dim(func, active_dim):\n",
    "    def func_fixed_dim(*args):\n",
    "        return func(*args, active_dim = active_dim)\n",
    "    return func_fixed_dim"
   ]
  },
  {
   "cell_type": "code",
   "execution_count": 6,
   "id": "5c496be7",
   "metadata": {},
   "outputs": [
    {
     "name": "stdout",
     "output_type": "stream",
     "text": [
      "torch index_add_; active dim 1; forward:  0.2133361498514811\n"
     ]
    }
   ],
   "source": [
    "BATCH_SIZE = 1000\n",
    "N_FEATURES = 100\n",
    "times = benchmark_forward(BATCH_SIZE, N_FEATURES, 1, \n",
    "                          get_func_fixed_dim(sparse_accumulation_index_add, 1), 10)\n",
    "print(\"torch index_add_; active dim 1; forward: \", np.mean(times[1:]))"
   ]
  },
  {
   "cell_type": "code",
   "execution_count": 7,
   "id": "06dde3d9",
   "metadata": {},
   "outputs": [
    {
     "name": "stdout",
     "output_type": "stream",
     "text": [
      "python loops; active dim 0; forward:  0.04021528032090929\n",
      "torch index_add_; active dim 0; forward:  0.205434693230523\n",
      "cpp; active dim 0; forward:  0.02603549427456326\n",
      "\n",
      "python loops; active dim 1; forward:  0.06679489877488878\n",
      "torch index_add_; active dim 1; forward:  0.2108128865559896\n",
      "cpp; active dim 1; forward:  0.022336641947428387\n",
      "\n",
      "python loops; active dim 2; forward:  0.40611039267645943\n",
      "torch index_add_; active dim 2; forward:  0.7698346243964301\n",
      "cpp; active dim 2; forward:  0.06612857182820638\n"
     ]
    }
   ],
   "source": [
    "BATCH_SIZE = 1000\n",
    "N_FEATURES = 100\n",
    "\n",
    "times = benchmark_forward(BATCH_SIZE, N_FEATURES, 0, \n",
    "                          get_func_fixed_dim(sparse_accumulation_loops, 0), 10)\n",
    "print(\"python loops; active dim 0; forward: \", np.mean(times[1:]))\n",
    "times = benchmark_forward(BATCH_SIZE, N_FEATURES, 0, \n",
    "                          get_func_fixed_dim(sparse_accumulation_index_add, 0), 10)\n",
    "print(\"torch index_add_; active dim 0; forward: \", np.mean(times[1:]))\n",
    "times = benchmark_forward(BATCH_SIZE, N_FEATURES, 0,\n",
    "                          sparse_accumulation_active_dim_first.SparseAccumulationActiveDimFirst.apply, 10)\n",
    "print(\"cpp; active dim 0; forward: \", np.mean(times[1:]))\n",
    "\n",
    "print()\n",
    "times = benchmark_forward(BATCH_SIZE, N_FEATURES, 1, \n",
    "                          get_func_fixed_dim(sparse_accumulation_loops, 1), 10)\n",
    "print(\"python loops; active dim 1; forward: \", np.mean(times[1:]))\n",
    "times = benchmark_forward(BATCH_SIZE, N_FEATURES, 1, \n",
    "                          get_func_fixed_dim(sparse_accumulation_index_add, 1), 10)\n",
    "print(\"torch index_add_; active dim 1; forward: \", np.mean(times[1:]))\n",
    "times = benchmark_forward(BATCH_SIZE, N_FEATURES, 1,\n",
    "                          sparse_accumulation_active_dim_middle.SparseAccumulationActiveDimMiddle.apply, 10)\n",
    "print(\"cpp; active dim 1; forward: \", np.mean(times[1:]))\n",
    "\n",
    "print()\n",
    "times = benchmark_forward(BATCH_SIZE, N_FEATURES, 2, get_func_fixed_dim(sparse_accumulation_loops, 2), 10)\n",
    "print(\"python loops; active dim 2; forward: \", np.mean(times[1:]))\n",
    "times = benchmark_forward(BATCH_SIZE, N_FEATURES, 2, get_func_fixed_dim(sparse_accumulation_index_add, 2), 10)\n",
    "print(\"torch index_add_; active dim 2; forward: \", np.mean(times[1:]))\n",
    "times = benchmark_forward(BATCH_SIZE, N_FEATURES, 2, sparse_accumulation.SparseAccumulation.apply, 10)\n",
    "print(\"cpp; active dim 2; forward: \", np.mean(times[1:]))\n",
    "\n"
   ]
  },
  {
   "cell_type": "code",
   "execution_count": 8,
   "id": "56095bfc",
   "metadata": {},
   "outputs": [
    {
     "name": "stdout",
     "output_type": "stream",
     "text": [
      "python loops; active dim 0; backward:  2.34902556737264\n",
      "torch index_add_; active dim 0; backward:  0.3824967013465034\n",
      "cpp; active dim 0; backward:  0.07314239607916938\n",
      "\n",
      "python loops; active dim 1; backward:  2.920709212621053\n",
      "torch index_add_; active dim 1; backward:  0.405303160349528\n",
      "cpp; active dim 1; backward:  0.06241893768310547\n",
      "\n",
      "python loops; active dim 2; backward:  1.6288407113817003\n",
      "torch index_add_; active dim 2; backward:  1.4928550985124376\n",
      "cpp; active dim 2; backward:  0.1249254544576009\n"
     ]
    }
   ],
   "source": [
    "times = benchmark_backward(BATCH_SIZE, N_FEATURES, 0, \n",
    "                           get_func_fixed_dim(sparse_accumulation_loops, 0), 10)\n",
    "print(\"python loops; active dim 0; backward: \", np.mean(times[1:]))\n",
    "times = benchmark_backward(BATCH_SIZE, N_FEATURES, 0, \n",
    "                           get_func_fixed_dim(sparse_accumulation_index_add, 0), 10)\n",
    "print(\"torch index_add_; active dim 0; backward: \", np.mean(times[1:]))\n",
    "times = benchmark_backward(BATCH_SIZE, N_FEATURES, 0,\n",
    "                           sparse_accumulation_active_dim_first.SparseAccumulationActiveDimFirst.apply, 10)\n",
    "print(\"cpp; active dim 0; backward: \", np.mean(times[1:]))\n",
    "\n",
    "print()\n",
    "\n",
    "times = benchmark_backward(BATCH_SIZE, N_FEATURES, 1, \n",
    "                           get_func_fixed_dim(sparse_accumulation_loops, 1), 10)\n",
    "print(\"python loops; active dim 1; backward: \", np.mean(times[1:]))\n",
    "times = benchmark_backward(BATCH_SIZE, N_FEATURES, 1, \n",
    "                           get_func_fixed_dim(sparse_accumulation_index_add, 1), 10)\n",
    "print(\"torch index_add_; active dim 1; backward: \", np.mean(times[1:]))\n",
    "times = benchmark_backward(BATCH_SIZE, N_FEATURES, 1,\n",
    "                           sparse_accumulation_active_dim_middle.SparseAccumulationActiveDimMiddle.apply, 10)\n",
    "print(\"cpp; active dim 1; backward: \", np.mean(times[1:]))\n",
    "\n",
    "\n",
    "print()\n",
    "times = benchmark_backward(BATCH_SIZE, N_FEATURES, 2, \n",
    "                           get_func_fixed_dim(sparse_accumulation_index_add, 2), 10)\n",
    "print(\"python loops; active dim 2; backward: \", np.mean(times[1:]))\n",
    "times = benchmark_backward(BATCH_SIZE, N_FEATURES, 2, \n",
    "                           get_func_fixed_dim(sparse_accumulation_index_add, 2), 10)\n",
    "print(\"torch index_add_; active dim 2; backward: \", np.mean(times[1:]))\n",
    "times = benchmark_backward(BATCH_SIZE, N_FEATURES, 2, sparse_accumulation.SparseAccumulation.apply, 10)\n",
    "print(\"cpp; active dim 2; backward: \", np.mean(times[1:]))\n",
    "\n",
    "\n",
    "\n"
   ]
  },
  {
   "cell_type": "code",
   "execution_count": null,
   "id": "3f415873",
   "metadata": {},
   "outputs": [],
   "source": []
  },
  {
   "cell_type": "code",
   "execution_count": null,
   "id": "9cacf2b7",
   "metadata": {},
   "outputs": [],
   "source": []
  },
  {
   "cell_type": "code",
   "execution_count": null,
   "id": "623ea943",
   "metadata": {},
   "outputs": [],
   "source": []
  }
 ],
 "metadata": {
  "kernelspec": {
   "display_name": "Python 3 (ipykernel)",
   "language": "python",
   "name": "python3"
  },
  "language_info": {
   "codemirror_mode": {
    "name": "ipython",
    "version": 3
   },
   "file_extension": ".py",
   "mimetype": "text/x-python",
   "name": "python",
   "nbconvert_exporter": "python",
   "pygments_lexer": "ipython3",
   "version": "3.9.12"
  }
 },
 "nbformat": 4,
 "nbformat_minor": 5
}
